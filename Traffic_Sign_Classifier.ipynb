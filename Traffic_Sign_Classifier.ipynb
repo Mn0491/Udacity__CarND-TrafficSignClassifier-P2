{
 "cells": [
  {
   "cell_type": "markdown",
   "metadata": {
    "deletable": true,
    "editable": true
   },
   "source": [
    "# Self-Driving Car Engineer Nanodegree\n",
    "\n",
    "## Deep Learning\n",
    "\n",
    "## Project: Build a Traffic Sign Recognition Classifier\n",
    "\n",
    "In this notebook, a template is provided for you to implement your functionality in stages, which is required to successfully complete this project. If additional code is required that cannot be included in the notebook, be sure that the Python code is successfully imported and included in your submission if necessary. \n",
    "\n",
    "> **Note**: Once you have completed all of the code implementations, you need to finalize your work by exporting the iPython Notebook as an HTML document. Before exporting the notebook to html, all of the code cells need to have been run so that reviewers can see the final implementation and output. You can then export the notebook by using the menu above and navigating to  \\n\",\n",
    "    \"**File -> Download as -> HTML (.html)**. Include the finished document along with this notebook as your submission. \n",
    "\n",
    "In addition to implementing code, there is a writeup to complete. The writeup should be completed in a separate file, which can be either a markdown file or a pdf document. There is a [write up template](https://github.com/udacity/CarND-Traffic-Sign-Classifier-Project/blob/master/writeup_template.md) that can be used to guide the writing process. Completing the code template and writeup template will cover all of the [rubric points](https://review.udacity.com/#!/rubrics/481/view) for this project.\n",
    "\n",
    "The [rubric](https://review.udacity.com/#!/rubrics/481/view) contains \"Stand Out Suggestions\" for enhancing the project beyond the minimum requirements. The stand out suggestions are optional. If you decide to pursue the \"stand out suggestions\", you can include the code in this Ipython notebook and also discuss the results in the writeup file.\n",
    "\n",
    "\n",
    ">**Note:** Code and Markdown cells can be executed using the **Shift + Enter** keyboard shortcut. In addition, Markdown cells can be edited by typically double-clicking the cell to enter edit mode."
   ]
  },
  {
   "cell_type": "markdown",
   "metadata": {
    "deletable": true,
    "editable": true
   },
   "source": [
    "---\n",
    "## Step 0: Load The Data"
   ]
  },
  {
   "cell_type": "code",
   "execution_count": 1,
   "metadata": {
    "collapsed": false,
    "deletable": true,
    "editable": true
   },
   "outputs": [],
   "source": [
    "# Load pickled data\n",
    "import pickle\n",
    "\n",
    "training_file = './input/train.p'\n",
    "validation_file = './input/valid.p'\n",
    "testing_file = './input/test.p'\n",
    "\n",
    "with open(training_file, mode='rb') as f:\n",
    "    train = pickle.load(f)\n",
    "with open(validation_file, mode='rb') as f:\n",
    "    valid = pickle.load(f)\n",
    "with open(testing_file, mode='rb') as f:\n",
    "    test = pickle.load(f)\n",
    "    \n",
    "X_train, y_train = train['features'], train['labels']\n",
    "X_valid, y_valid = valid['features'], valid['labels']\n",
    "X_test, y_test = test['features'], test['labels']"
   ]
  },
  {
   "cell_type": "markdown",
   "metadata": {
    "deletable": true,
    "editable": true
   },
   "source": [
    "---\n",
    "\n",
    "## Step 1: Dataset Summary & Exploration\n",
    "\n",
    "The pickled data is a dictionary with 4 key/value pairs:\n",
    "\n",
    "- `'features'` is a 4D array containing raw pixel data of the traffic sign images, (num examples, width, height, channels).\n",
    "- `'labels'` is a 1D array containing the label/class id of the traffic sign. The file `signnames.csv` contains id -> name mappings for each id.\n",
    "- `'sizes'` is a list containing tuples, (width, height) representing the original width and height the image.\n",
    "- `'coords'` is a list containing tuples, (x1, y1, x2, y2) representing coordinates of a bounding box around the sign in the image. **THESE COORDINATES ASSUME THE ORIGINAL IMAGE. THE PICKLED DATA CONTAINS RESIZED VERSIONS (32 by 32) OF THESE IMAGES**\n",
    "\n",
    "Complete the basic data summary below. Use python, numpy and/or pandas methods to calculate the data summary rather than hard coding the results. For example, the [pandas shape method](http://pandas.pydata.org/pandas-docs/stable/generated/pandas.DataFrame.shape.html) might be useful for calculating some of the summary results. "
   ]
  },
  {
   "cell_type": "markdown",
   "metadata": {
    "deletable": true,
    "editable": true
   },
   "source": [
    "### Provide a Basic Summary of the Data Set Using Python, Numpy and/or Pandas"
   ]
  },
  {
   "cell_type": "code",
   "execution_count": null,
   "metadata": {
    "collapsed": false,
    "deletable": true,
    "editable": true
   },
   "outputs": [],
   "source": [
    "### Replace each question mark with the appropriate value. \n",
    "### Use python, pandas or numpy methods rather than hard coding the results\n",
    "\n",
    "# Number of training examples\n",
    "n_train = len(X_train)\n",
    "\n",
    "# Number of training examples\n",
    "n_valid = len(X_valid)\n",
    "\n",
    "# Number of testing examples.\n",
    "n_test = len(X_test)\n",
    "\n",
    "# What's the shape of an traffic sign image?\n",
    "image_shape = X_train[0].shape\n",
    "\n",
    "# How many unique classes/labels there are in the dataset.\n",
    "n_classes = len(set(y_train))\n",
    "\n",
    "print(\"Number of training examples =\", n_train)\n",
    "print(\"Number of validation examples =\", n_valid)\n",
    "print(\"Number of testing examples =\", n_test)\n",
    "print(\"Image data shape =\", image_shape)\n",
    "print(\"Number of classes =\", n_classes)"
   ]
  },
  {
   "cell_type": "markdown",
   "metadata": {
    "deletable": true,
    "editable": true
   },
   "source": [
    "### Include an exploratory visualization of the dataset"
   ]
  },
  {
   "cell_type": "markdown",
   "metadata": {
    "deletable": true,
    "editable": true
   },
   "source": [
    "Visualize the German Traffic Signs Dataset using the pickled file(s). This is open ended, suggestions include: plotting traffic sign images, plotting the count of each sign, etc.\n",
    "\n",
    "The [Matplotlib](http://matplotlib.org/) [examples](http://matplotlib.org/examples/index.html) and [gallery](http://matplotlib.org/gallery.html) pages are a great resource for doing visualizations in Python.\n",
    "\n",
    "**NOTE:** It's recommended you start with something simple first. If you wish to do more, come back to it after you've completed the rest of the sections."
   ]
  },
  {
   "cell_type": "code",
   "execution_count": null,
   "metadata": {
    "collapsed": false,
    "deletable": true,
    "editable": true
   },
   "outputs": [],
   "source": [
    "### Data exploration visualization code goes here.\n",
    "import random\n",
    "import itertools\n",
    "import csv\n",
    "import matplotlib.pyplot as plt\n",
    "# Visualizations will be shown in the notebook.\n",
    "%matplotlib inline\n",
    "\n",
    "signnames_file = 'signnames.csv'\n",
    "\n",
    "signnames = {}\n",
    "\n",
    "with open(signnames_file, newline='') as f:\n",
    "    reader = csv.reader(f, delimiter=',', quoting=csv.QUOTE_NONE)\n",
    "    next(reader, None)  # skip the headers\n",
    "    for row in reader:\n",
    "        signnames[int(row[0])] = row[1]\n",
    "\n",
    "def group_images_by_sign(y_train):\n",
    "    def sort_sign(index):\n",
    "        return y_train[index]\n",
    "    \n",
    "    sorted_signs = sorted(range(len(y_train)), key=sort_sign)\n",
    "    return {k: list(v) for k,v in itertools.groupby(sorted_signs, key=sort_sign)}\n",
    "\n",
    "\n",
    "def display_rand_images_by_sign(X_train, y_train):\n",
    "    images_by_sign = group_images_by_sign(y_train)\n",
    "    fig = plt.figure(figsize=(20,50))\n",
    "    count = 1\n",
    "    for k, v in images_by_sign.items():\n",
    "        index = random.randint(0, len(v)-1)\n",
    "        image = X_train[v[index]].squeeze()\n",
    "    \n",
    "        a = fig.add_subplot(11, 4, count)\n",
    "        a.set_title(signnames[k])\n",
    "        plt.imshow(image, cmap=\"gray\")\n",
    "        plt.axis('off')\n",
    "        count += 1\n",
    "\n",
    "display_rand_images_by_sign(X_train, y_train)"
   ]
  },
  {
   "cell_type": "markdown",
   "metadata": {
    "deletable": true,
    "editable": true
   },
   "source": [
    "----\n",
    "\n",
    "## Step 2: Design and Test a Model Architecture\n",
    "\n",
    "Design and implement a deep learning model that learns to recognize traffic signs. Train and test your model on the [German Traffic Sign Dataset](http://benchmark.ini.rub.de/?section=gtsrb&subsection=dataset).\n",
    "\n",
    "The LeNet-5 implementation shown in the [classroom](https://classroom.udacity.com/nanodegrees/nd013/parts/fbf77062-5703-404e-b60c-95b78b2f3f9e/modules/6df7ae49-c61c-4bb2-a23e-6527e69209ec/lessons/601ae704-1035-4287-8b11-e2c2716217ad/concepts/d4aca031-508f-4e0b-b493-e7b706120f81) at the end of the CNN lesson is a solid starting point. You'll have to change the number of classes and possibly the preprocessing, but aside from that it's plug and play! \n",
    "\n",
    "With the LeNet-5 solution from the lecture, you should expect a validation set accuracy of about 0.89. To meet specifications, the validation set accuracy will need to be at least 0.93. It is possible to get an even higher accuracy, but 0.93 is the minimum for a successful project submission. \n",
    "\n",
    "There are various aspects to consider when thinking about this problem:\n",
    "\n",
    "- Neural network architecture (is the network over or underfitting?)\n",
    "- Play around preprocessing techniques (normalization, rgb to grayscale, etc)\n",
    "- Number of examples per label (some have more than others).\n",
    "- Generate fake data.\n",
    "\n",
    "Here is an example of a [published baseline model on this problem](http://yann.lecun.com/exdb/publis/pdf/sermanet-ijcnn-11.pdf). It's not required to be familiar with the approach used in the paper but, it's good practice to try to read papers like these."
   ]
  },
  {
   "cell_type": "markdown",
   "metadata": {
    "deletable": true,
    "editable": true
   },
   "source": [
    "### Pre-process the Data Set (normalization, grayscale, etc.)"
   ]
  },
  {
   "cell_type": "markdown",
   "metadata": {
    "deletable": true,
    "editable": true
   },
   "source": [
    "Use the code cell (or multiple code cells, if necessary) to implement the first step of your project."
   ]
  },
  {
   "cell_type": "code",
   "execution_count": null,
   "metadata": {
    "collapsed": false,
    "deletable": true,
    "editable": true,
    "scrolled": false
   },
   "outputs": [],
   "source": [
    "### Preprocess the data here. Preprocessing steps could include normalization, converting to grayscale, etc.\n",
    "\n",
    "import numpy as np    \n",
    "from scipy.ndimage.interpolation import rotate, shift\n",
    "from sklearn.utils import shuffle\n",
    "\n",
    "# Data augmentation.\n",
    "def data_augmentation(X_train, y_train):\n",
    "    def _rotate(x, height, width):\n",
    "        angle = random.randint(-15, 15)\n",
    "        return rotate(x, angle, reshape=False)\n",
    "\n",
    "    def _shift(x, height, width):\n",
    "        s = np.random.randint(-3,3,3)\n",
    "        return shift(x, s, order=3, mode='nearest')\n",
    "    \n",
    "    def _rotate_and_shift(x, height, width):\n",
    "        return _rotate(_shift(x, height, width), height, width)\n",
    "    \n",
    "    distortion_fcts = (_rotate, _shift, _rotate_and_shift)\n",
    "    \n",
    "    new_imgs = []\n",
    "    labels = []\n",
    "    height, width, ch = X_train[0].shape\n",
    "    \n",
    "    for x, y in zip(X_train, y_train):\n",
    "        index = random.randint(0, len(distortion_fcts)-1)\n",
    "        distortion_fct = distortion_fcts[index]\n",
    "        \n",
    "        new_img = distortion_fct(x, height, width)\n",
    "        new_imgs.append(new_img)\n",
    "        labels.append(y)\n",
    "        \n",
    "    new_imgs = np.array(new_imgs)\n",
    "    labels = np.array(labels)\n",
    "    \n",
    "    return new_imgs, labels\n",
    "\n",
    "X_train_augm, y_train_augm = data_augmentation(X_train, y_train)\n",
    "\n",
    "# Display some images distorted to increase the data set\n",
    "def display_modified_images_by_sign(X, y, X_modified):\n",
    "    images_by_sign = group_images_by_sign(y)\n",
    "    fig = plt.figure(figsize=(10,300))\n",
    "    count = 1\n",
    "    nbcols = 3\n",
    "    nbrows = len(images_by_sign)\n",
    "    nbcells = nbcols * nbrows\n",
    "    \n",
    "    is_first = True\n",
    "    \n",
    "    for k, v in images_by_sign.items():\n",
    "        index = random.randint(0, len(v)-1)\n",
    "    \n",
    "        orig_img = X[v[index]].squeeze()\n",
    "        dist_img = X_modified[v[index]].squeeze()\n",
    "        \n",
    "        c = fig.add_subplot(nbcells, nbcols, count)\n",
    "        c.text(0,0.5, signnames[k])\n",
    "        plt.axis('off')\n",
    "        count += 1\n",
    "        \n",
    "        a = fig.add_subplot(nbcells, nbcols, count)\n",
    "        if is_first:\n",
    "            a.set_title('before')\n",
    "        \n",
    "        plt.imshow(orig_img, cmap=\"gray\")\n",
    "        plt.axis('off')\n",
    "        count += 1\n",
    "        b = fig.add_subplot(nbcells, nbcols, count)\n",
    "        if is_first:\n",
    "            b.set_title('after')\n",
    "            is_first = False\n",
    "        \n",
    "        plt.imshow(dist_img, cmap=\"gray\")\n",
    "        plt.axis('off')\n",
    "        count += 1\n",
    "\n",
    "def display_distorted_images_by_sign():\n",
    "    return display_modified_images_by_sign(X_train, y_train, X_train_augm)\n",
    "        \n",
    "display_distorted_images_by_sign()\n",
    "\n",
    "X_train_augm = np.concatenate((X_train, X_train_augm))\n",
    "y_train_augm = np.concatenate((y_train, y_train_augm))\n",
    "\n",
    "X_train, y_train = shuffle(X_train, y_train)\n",
    "X_train_augm, y_train_augm = shuffle(X_train_augm, y_train_augm)\n",
    "\n",
    "print(\"Number of training examples =\", len(X_train))\n",
    "print(\"Number of augmented training examples =\", len(X_train_augm))"
   ]
  },
  {
   "cell_type": "markdown",
   "metadata": {
    "deletable": true,
    "editable": true
   },
   "source": [
    "### Model Architecture"
   ]
  },
  {
   "cell_type": "code",
   "execution_count": 2,
   "metadata": {
    "collapsed": false,
    "deletable": true,
    "editable": true
   },
   "outputs": [],
   "source": [
    "### Building blocks definition\n",
    "\n",
    "import tensorflow as tf\n",
    "from tensorflow.contrib.layers import flatten\n",
    "\n",
    "def _build_variable(name, shape, initializer):\n",
    "    return tf.get_variable(name, shape, initializer=initializer, dtype=tf.float32)\n",
    "\n",
    "def _variable_with_regul_term(name, shape, stddev, wd):\n",
    "    dtype = tf.float32\n",
    "    var = _build_variable(name, shape, tf.truncated_normal_initializer(stddev=stddev, dtype=dtype))\n",
    "    if wd is not None:\n",
    "        weight_decay = tf.multiply(tf.nn.l2_loss(var), wd)\n",
    "        tf.add_to_collection('losses', weight_decay)\n",
    "    return var\n",
    "\n",
    "def conv_relu(input, kernel_shape, bias_shape, stddev=5e-2, wd=0.0, constant_init=0.0, padding='SAME'):\n",
    "    # Create variable named \"weights\".\n",
    "    weights = _variable_with_regul_term(\"weights\", kernel_shape, stddev=stddev, wd=wd)\n",
    "    # Create variable named \"biases\".\n",
    "    biases = _build_variable(\"biases\", bias_shape, initializer=tf.constant_initializer(constant_init))\n",
    "    conv = tf.nn.conv2d(input, weights, strides=[1, 1, 1, 1], padding=padding)\n",
    "    pre_activation = tf.nn.bias_add(conv, biases)\n",
    "    return tf.nn.relu(pre_activation)\n",
    "\n",
    "def fully_connected(input, kernel_shape, bias_shape, stddev, wd, constant_init=0.0):\n",
    "    # Create variable named \"weights\".\n",
    "    weights = _variable_with_regul_term(\"weights\", kernel_shape, stddev=stddev, wd=wd)\n",
    "    # Create variable named \"biases\".\n",
    "    biases = _build_variable(\"biases\", bias_shape, initializer=tf.constant_initializer(constant_init))\n",
    "    matmul = tf.matmul(input, weights)\n",
    "    return tf.nn.bias_add(matmul, biases)\n",
    "\n",
    "def relu(input):\n",
    "    return tf.nn.relu(input)\n",
    "\n",
    "def max_pool(input, ksize=[1, 2, 2, 1], strides=[1, 2, 2, 1], padding='SAME'):\n",
    "    return tf.nn.max_pool(input, ksize=ksize, strides=strides, padding=padding)\n",
    "\n",
    "def normalize(input, depth_radius=4, bias=1.0, alpha=(0.001 / 9.0), beta=0.75):\n",
    "    return tf.nn.local_response_normalization(input, depth_radius=depth_radius, bias=bias, alpha=alpha, beta=beta)\n",
    "\n",
    "def drop_out(input, keep_prob):\n",
    "    return tf.nn.dropout(input, keep_prob=keep_prob)"
   ]
  },
  {
   "cell_type": "markdown",
   "metadata": {
    "deletable": true,
    "editable": true
   },
   "source": [
    "#### LeNet"
   ]
  },
  {
   "cell_type": "code",
   "execution_count": 3,
   "metadata": {
    "collapsed": true,
    "deletable": true,
    "editable": true
   },
   "outputs": [],
   "source": [
    "def LeNet(input_queue, num_classes=43):\n",
    "    pass"
   ]
  },
  {
   "cell_type": "markdown",
   "metadata": {
    "deletable": true,
    "editable": true
   },
   "source": [
    "#### AlexNet (simplified)"
   ]
  },
  {
   "cell_type": "code",
   "execution_count": 4,
   "metadata": {
    "collapsed": true,
    "deletable": true,
    "editable": true
   },
   "outputs": [],
   "source": [
    "def AlexNetSimplified(input_queue, reuse=None, num_classes=43):\n",
    "    with tf.variable_scope('conv1', reuse=reuse) as scope:\n",
    "        conv1 = conv_relu(input_queue, [5, 5, 3, 64], [64])\n",
    "        \n",
    "    pool1 = max_pool(conv1, ksize=[1, 3, 3, 1], strides=[1, 2, 2, 1])\n",
    "    norm1 = normalize(pool1)\n",
    "    \n",
    "    with tf.variable_scope('conv2', reuse=reuse) as scope:\n",
    "        conv2 = conv_relu(norm1, [5, 5, 64, 64], [64], constant_init=0.1)\n",
    "        \n",
    "    norm2 = normalize(conv2)\n",
    "    pool2 = max_pool(norm2, ksize=[1, 3, 3, 1], strides=[1, 2, 2, 1])\n",
    "    \n",
    "    # \n",
    "    pool2 = flatten(pool2)\n",
    "    with tf.variable_scope('local3', reuse=reuse) as scope:\n",
    "        fc1 = fully_connected(pool2, [64*64, 384], [384], stddev=0.04, wd=0.004)\n",
    "        fc1 = relu(fc1)\n",
    "    \n",
    "    with tf.variable_scope('local4', reuse=reuse) as scope:\n",
    "        fc2 = fully_connected(fc1, [384, 192], [192], stddev=0.04, wd=0.004)\n",
    "        fc2 = relu(fc2)\n",
    "    \n",
    "    with tf.variable_scope('linear', reuse=reuse) as scope:\n",
    "        logits = fully_connected(fc2, [192, num_classes], [num_classes], stddev=1/192.0, wd=0.0)\n",
    "        \n",
    "    return logits"
   ]
  },
  {
   "cell_type": "markdown",
   "metadata": {
    "deletable": true,
    "editable": true
   },
   "source": [
    "### Train, Validate and Test the Model"
   ]
  },
  {
   "cell_type": "markdown",
   "metadata": {
    "deletable": true,
    "editable": true
   },
   "source": [
    "A validation set can be used to assess how well the model is performing. A low accuracy on the training and validation\n",
    "sets imply underfitting. A high accuracy on the training set but low accuracy on the validation set implies overfitting."
   ]
  },
  {
   "cell_type": "code",
   "execution_count": 5,
   "metadata": {
    "collapsed": true,
    "deletable": true,
    "editable": true
   },
   "outputs": [],
   "source": [
    "### Train your model here.\n",
    "### Calculate and report the accuracy on the training and validation set.\n",
    "### Once a final model architecture is selected, \n",
    "### the accuracy on the test set should be calculated and reported as well.\n",
    "### Feel free to use as many code cells as needed.\n",
    "\n",
    "def input_pipeline(X, y, batch_size, num_epochs=1000, num_threads=4, capacity=5000, min_after_dequeue=100):\n",
    "    input_queue = tf.train.slice_input_producer([X, y], num_epochs=num_epochs)\n",
    "    image_batch, label_batch = tf.train.shuffle_batch(\n",
    "        [input_queue[0], input_queue[1]],\n",
    "        batch_size=batch_size,\n",
    "        num_threads=num_threads,\n",
    "        capacity=capacity,\n",
    "        min_after_dequeue=min_after_dequeue,\n",
    "        enqueue_many=False,\n",
    "        allow_smaller_final_batch=True)\n",
    "    \n",
    "    image_batch = tf.cast(image_batch, tf.float32)\n",
    "    label_batch = tf.cast(label_batch, tf.float32)\n",
    "    return image_batch, label_batch\n",
    "\n",
    "def loss(logits, labels):\n",
    "    labels = tf.cast(labels, tf.int64)\n",
    "    cross_entropy = tf.nn.sparse_softmax_cross_entropy_with_logits(labels=labels, logits=logits)\n",
    "    cross_entropy_mean = tf.reduce_mean(cross_entropy)\n",
    "    \n",
    "    # Add the losses from the regularization term\n",
    "    tf.add_to_collection('losses', cross_entropy_mean)\n",
    "    return tf.add_n(tf.get_collection('losses'))\n",
    "\n",
    "def evaluate(logits, labels, num_classes=43):\n",
    "    labels = tf.cast(labels, tf.int64)\n",
    "    one_hot_y = tf.one_hot(labels, num_classes)\n",
    "    correct_prediction = tf.equal(tf.argmax(logits, 1), tf.argmax(one_hot_y, 1))\n",
    "    return tf.reduce_mean(tf.cast(correct_prediction, tf.float32))\n",
    "\n",
    "def backpropagate(total_loss, global_step, init_learning_rate=0.001):\n",
    "    optimizer = tf.train.AdamOptimizer(learning_rate=init_learning_rate)\n",
    "    return optimizer.minimize(total_loss, global_step=global_step)"
   ]
  },
  {
   "cell_type": "code",
   "execution_count": 6,
   "metadata": {
    "collapsed": false,
    "deletable": true,
    "editable": true,
    "scrolled": false
   },
   "outputs": [
    {
     "name": "stdout",
     "output_type": "stream",
     "text": [
      "Last step: 1000000\n",
      "Num epochs: 1\n",
      "INFO:tensorflow:Create CheckpointSaverHook.\n",
      "INFO:tensorflow:Saving checkpoints for 1 into ./output/AlexNetSimplified_256_model.\n",
      "step 0, loss = 7.85, acc = 0.00/0.09 (348.3 examples/sec; 0.735 sec/batch)\n",
      "INFO:tensorflow:Saving checkpoints for 4 into ./output/AlexNetSimplified_256_model.\n",
      "Test Accuracy = 0.018\n",
      "CPU times: user 1min 22s, sys: 13.8 s, total: 1min 36s\n",
      "Wall time: 21 s\n",
      "Test Accuracy = 0.018\n",
      "CPU times: user 9.18 s, sys: 2.04 s, total: 11.2 s\n",
      "Wall time: 2.24 s\n"
     ]
    }
   ],
   "source": [
    "import time\n",
    "\n",
    "X_train, y_train = X_train[0:1000], y_train[0:1000]\n",
    "X_valid, y_valid = X_valid[0:1000], y_valid[0:1000]\n",
    "X_test, y_test = X_test[0:1000], y_test[0:1000]\n",
    "\n",
    "def _build_checkpoint_basename(neural_network_fct, batch_size):\n",
    "    return '%s_%s_model' % (neural_network_fct.__name__, batch_size)\n",
    "\n",
    "def get_save_path(neural_network_fct, batch_size):\n",
    "    return '/output/%s' % (_build_checkpoint_basename(neural_network_fct, batch_size))\n",
    "\n",
    "def _build_accuracy_check(X, y, neural_network_fct, reuse=True):\n",
    "    # Define the pipeline for the validation/test\n",
    "    X_ph = tf.placeholder(tf.float32, (None, 32, 32, None))\n",
    "    y_ph = tf.placeholder(tf.int32, (None))\n",
    "    digits = neural_network_fct(X_ph, reuse=reuse)\n",
    "    accuracy = evaluate(digits, y_ph)\n",
    "    return accuracy, {X_ph: X, y_ph: y}\n",
    "\n",
    "def train(checkpoint_dir, X_train, y_train, X_valid, y_valid, X_test, y_test, neural_network_fct, batch_size=8, num_epochs=100000, last_step=200, log_frequency = 10): \n",
    "    import os\n",
    "    \n",
    "    global_step = tf.contrib.framework.get_or_create_global_step()\n",
    "        \n",
    "    # Define the pipeline for the training\n",
    "    images_train, labels_train = input_pipeline(X_train, y_train, batch_size, num_epochs=num_epochs)\n",
    "    digits_train = neural_network_fct(images_train)\n",
    "    loss_train = loss(digits_train, labels_train)\n",
    "    accuracy_train = evaluate(digits_train, labels_train)\n",
    "            \n",
    "    # Define the pipeline for the validation\n",
    "    accuracy_valid, feed_dict_valid = _build_accuracy_check(X_valid, y_valid, neural_network_fct)\n",
    "        \n",
    "    # Define the pipeline for the test set (generalization)\n",
    "    accuracy_test, feed_dict_test = _build_accuracy_check(X_test, y_test, neural_network_fct)\n",
    "            \n",
    "    train_op = backpropagate(loss_train, global_step)\n",
    "    \n",
    "    class _LoggerHook(tf.train.SessionRunHook):\n",
    "        \"\"\"Logs loss and runtime.\"\"\"\n",
    "\n",
    "        def begin(self):\n",
    "            self._step = -1\n",
    "            self._start_time = time.time()\n",
    "                \n",
    "        def end(self, session):\n",
    "            acc_test = session.run(accuracy_test, feed_dict=feed_dict_test)\n",
    "            print(\"Test Accuracy = {:.3f}\".format(acc_test))\n",
    "            \n",
    "        def before_run(self, run_context):\n",
    "            self._step += 1\n",
    "            return tf.train.SessionRunArgs([loss_train,accuracy_train,accuracy_valid], feed_dict=feed_dict_valid)  # Asks for loss value.\n",
    "\n",
    "        def after_run(self, run_context, run_values):\n",
    "            if self._step % log_frequency == 0:\n",
    "                current_time = time.time()\n",
    "                duration = current_time - self._start_time\n",
    "                self._start_time = current_time\n",
    "\n",
    "                loss_value = run_values.results[0]\n",
    "                acc_train = run_values.results[1]\n",
    "                acc_valid = run_values.results[2]\n",
    "                examples_per_sec = log_frequency * batch_size / duration\n",
    "                sec_per_batch = float(duration / log_frequency)\n",
    "\n",
    "                format_str = ('step %d, loss = %.2f, acc = %.2f/%.2f (%.1f examples/sec; %.3f sec/batch)')\n",
    "                print (format_str % (self._step, loss_value, acc_train, acc_valid, examples_per_sec, sec_per_batch))\n",
    "                 \n",
    "    saver = tf.train.Saver()\n",
    "    checkpoint_basename = _build_checkpoint_basename(neural_network_fct, batch_size)\n",
    "                \n",
    "    with tf.train.MonitoredTrainingSession(\n",
    "            save_checkpoint_secs=None,\n",
    "            save_summaries_steps=None,\n",
    "            hooks=[tf.train.CheckpointSaverHook(checkpoint_dir=checkpoint_dir, checkpoint_basename=checkpoint_basename, save_steps=100, saver=saver),\n",
    "                    tf.train.StopAtStepHook(last_step=last_step),\n",
    "                    tf.train.NanTensorHook(loss_train),\n",
    "                    _LoggerHook()],\n",
    "            config=tf.ConfigProto(\n",
    "                log_device_placement=False)) as mon_sess:\n",
    "      \n",
    "        while not mon_sess.should_stop():\n",
    "            mon_sess.run(train_op)\n",
    "        \n",
    "def model_accuracy(checkpoint_dir, X_test, y_test, neural_network_fct, batch_size):\n",
    "    accuracy_test, feed_dict_test = _build_accuracy_check(X_test, y_test, neural_network_fct, reuse=True)\n",
    "    saver = tf.train.Saver()\n",
    "    \n",
    "    ckpt = tf.train.get_checkpoint_state(checkpoint_dir)\n",
    "    \n",
    "    with tf.Session() as sess:\n",
    "        save_path = ckpt.model_checkpoint_path\n",
    "        saver.restore(sess, save_path)\n",
    "        \n",
    "        acc_test = sess.run(accuracy_test, feed_dict=feed_dict_test)\n",
    "        print(\"Test Accuracy = {:.3f}\".format(acc_test))\n",
    "        \n",
    "def build_train_accuracy_AlexNetSimplified_fcts(checkpoint_dir=\"./output/\", batch_size=256, num_epochs=100000):\n",
    "    def train_AlexNetSimplified(batch_size=batch_size, num_epochs=num_epochs):\n",
    "        last_step = 1000000 #int(n_train/batch_size)+1\n",
    "        print('Last step: %s'%(last_step))\n",
    "        print('Num epochs: %s'%(num_epochs))\n",
    "        return train(checkpoint_dir, X_train, y_train, X_valid, y_valid, X_test, y_test, AlexNetSimplified, batch_size, num_epochs, last_step)\n",
    "\n",
    "    def accuracy_AlexNetSimplified():\n",
    "        model_accuracy(checkpoint_dir, X_test, y_test, AlexNetSimplified, batch_size)\n",
    "        \n",
    "    return train_AlexNetSimplified, accuracy_AlexNetSimplified\n",
    "        \n",
    "train_1, accuracy_1 = build_train_accuracy_AlexNetSimplified_fcts(num_epochs=1)\n",
    "\n",
    "%time train_1(num_epochs=1)\n",
    "%time accuracy_1()\n",
    "\n"
   ]
  },
  {
   "cell_type": "code",
   "execution_count": 7,
   "metadata": {
    "collapsed": false,
    "deletable": true,
    "editable": true
   },
   "outputs": [],
   "source": [
    "# Evaluate\n",
    "def validation_set():\n",
    "    return tf.constant(X_valid, dtype=tf.float32), tf.constant(y_valid, dtype=tf.int64)\n",
    "\n",
    "\n",
    "# Define the pipeline for the validation\n",
    "# images_valid, labels_valid = validation_set()\n",
    "#       digits_valid = neural_network_fct(images_valid, reuse=True)\n",
    "#       accuracy_valid = evaluate(digits_valid, labels_valid)"
   ]
  },
  {
   "cell_type": "markdown",
   "metadata": {
    "deletable": true,
    "editable": true
   },
   "source": [
    "---\n",
    "\n",
    "## Step 3: Test a Model on New Images\n",
    "\n",
    "To give yourself more insight into how your model is working, download at least five pictures of German traffic signs from the web and use your model to predict the traffic sign type.\n",
    "\n",
    "You may find `signnames.csv` useful as it contains mappings from the class id (integer) to the actual sign name."
   ]
  },
  {
   "cell_type": "markdown",
   "metadata": {
    "deletable": true,
    "editable": true
   },
   "source": [
    "### Load and Output the Images"
   ]
  },
  {
   "cell_type": "code",
   "execution_count": 8,
   "metadata": {
    "collapsed": true,
    "deletable": true,
    "editable": true
   },
   "outputs": [],
   "source": [
    "### Load the images and plot them here.\n",
    "### Feel free to use as many code cells as needed."
   ]
  },
  {
   "cell_type": "markdown",
   "metadata": {
    "deletable": true,
    "editable": true
   },
   "source": [
    "### Predict the Sign Type for Each Image"
   ]
  },
  {
   "cell_type": "code",
   "execution_count": 9,
   "metadata": {
    "collapsed": true,
    "deletable": true,
    "editable": true
   },
   "outputs": [],
   "source": [
    "### Run the predictions here and use the model to output the prediction for each image.\n",
    "### Make sure to pre-process the images with the same pre-processing pipeline used earlier.\n",
    "### Feel free to use as many code cells as needed."
   ]
  },
  {
   "cell_type": "markdown",
   "metadata": {
    "deletable": true,
    "editable": true
   },
   "source": [
    "### Analyze Performance"
   ]
  },
  {
   "cell_type": "code",
   "execution_count": 10,
   "metadata": {
    "collapsed": true,
    "deletable": true,
    "editable": true
   },
   "outputs": [],
   "source": [
    "### Calculate the accuracy for these 5 new images. \n",
    "### For example, if the model predicted 1 out of 5 signs correctly, it's 20% accurate on these new images."
   ]
  },
  {
   "cell_type": "markdown",
   "metadata": {
    "deletable": true,
    "editable": true
   },
   "source": [
    "### Output Top 5 Softmax Probabilities For Each Image Found on the Web"
   ]
  },
  {
   "cell_type": "markdown",
   "metadata": {
    "deletable": true,
    "editable": true
   },
   "source": [
    "For each of the new images, print out the model's softmax probabilities to show the **certainty** of the model's predictions (limit the output to the top 5 probabilities for each image). [`tf.nn.top_k`](https://www.tensorflow.org/versions/r0.12/api_docs/python/nn.html#top_k) could prove helpful here. \n",
    "\n",
    "The example below demonstrates how tf.nn.top_k can be used to find the top k predictions for each image.\n",
    "\n",
    "`tf.nn.top_k` will return the values and indices (class ids) of the top k predictions. So if k=3, for each sign, it'll return the 3 largest probabilities (out of a possible 43) and the correspoding class ids.\n",
    "\n",
    "Take this numpy array as an example. The values in the array represent predictions. The array contains softmax probabilities for five candidate images with six possible classes. `tk.nn.top_k` is used to choose the three classes with the highest probability:\n",
    "\n",
    "```\n",
    "# (5, 6) array\n",
    "a = np.array([[ 0.24879643,  0.07032244,  0.12641572,  0.34763842,  0.07893497,\n",
    "         0.12789202],\n",
    "       [ 0.28086119,  0.27569815,  0.08594638,  0.0178669 ,  0.18063401,\n",
    "         0.15899337],\n",
    "       [ 0.26076848,  0.23664738,  0.08020603,  0.07001922,  0.1134371 ,\n",
    "         0.23892179],\n",
    "       [ 0.11943333,  0.29198961,  0.02605103,  0.26234032,  0.1351348 ,\n",
    "         0.16505091],\n",
    "       [ 0.09561176,  0.34396535,  0.0643941 ,  0.16240774,  0.24206137,\n",
    "         0.09155967]])\n",
    "```\n",
    "\n",
    "Running it through `sess.run(tf.nn.top_k(tf.constant(a), k=3))` produces:\n",
    "\n",
    "```\n",
    "TopKV2(values=array([[ 0.34763842,  0.24879643,  0.12789202],\n",
    "       [ 0.28086119,  0.27569815,  0.18063401],\n",
    "       [ 0.26076848,  0.23892179,  0.23664738],\n",
    "       [ 0.29198961,  0.26234032,  0.16505091],\n",
    "       [ 0.34396535,  0.24206137,  0.16240774]]), indices=array([[3, 0, 5],\n",
    "       [0, 1, 4],\n",
    "       [0, 5, 1],\n",
    "       [1, 3, 5],\n",
    "       [1, 4, 3]], dtype=int32))\n",
    "```\n",
    "\n",
    "Looking just at the first row we get `[ 0.34763842,  0.24879643,  0.12789202]`, you can confirm these are the 3 largest probabilities in `a`. You'll also notice `[3, 0, 5]` are the corresponding indices."
   ]
  },
  {
   "cell_type": "code",
   "execution_count": 11,
   "metadata": {
    "collapsed": true,
    "deletable": true,
    "editable": true
   },
   "outputs": [],
   "source": [
    "### Print out the top five softmax probabilities for the predictions on the German traffic sign images found on the web. \n",
    "### Feel free to use as many code cells as needed."
   ]
  },
  {
   "cell_type": "markdown",
   "metadata": {
    "deletable": true,
    "editable": true
   },
   "source": [
    "---\n",
    "\n",
    "## Step 4: Visualize the Neural Network's State with Test Images\n",
    "\n",
    " This Section is not required to complete but acts as an additional excersise for understaning the output of a neural network's weights. While neural networks can be a great learning device they are often referred to as a black box. We can understand what the weights of a neural network look like better by plotting their feature maps. After successfully training your neural network you can see what it's feature maps look like by plotting the output of the network's weight layers in response to a test stimuli image. From these plotted feature maps, it's possible to see what characteristics of an image the network finds interesting. For a sign, maybe the inner network feature maps react with high activation to the sign's boundary outline or to the contrast in the sign's painted symbol.\n",
    "\n",
    " Provided for you below is the function code that allows you to get the visualization output of any tensorflow weight layer you want. The inputs to the function should be a stimuli image, one used during training or a new one you provided, and then the tensorflow variable name that represents the layer's state during the training process, for instance if you wanted to see what the [LeNet lab's](https://classroom.udacity.com/nanodegrees/nd013/parts/fbf77062-5703-404e-b60c-95b78b2f3f9e/modules/6df7ae49-c61c-4bb2-a23e-6527e69209ec/lessons/601ae704-1035-4287-8b11-e2c2716217ad/concepts/d4aca031-508f-4e0b-b493-e7b706120f81) feature maps looked like for it's second convolutional layer you could enter conv2 as the tf_activation variable.\n",
    "\n",
    "For an example of what feature map outputs look like, check out NVIDIA's results in their paper [End-to-End Deep Learning for Self-Driving Cars](https://devblogs.nvidia.com/parallelforall/deep-learning-self-driving-cars/) in the section Visualization of internal CNN State. NVIDIA was able to show that their network's inner weights had high activations to road boundary lines by comparing feature maps from an image with a clear path to one without. Try experimenting with a similar test to show that your trained network's weights are looking for interesting features, whether it's looking at differences in feature maps from images with or without a sign, or even what feature maps look like in a trained network vs a completely untrained one on the same sign image.\n",
    "\n",
    "<figure>\n",
    " <img src=\"visualize_cnn.png\" width=\"380\" alt=\"Combined Image\" />\n",
    " <figcaption>\n",
    " <p></p> \n",
    " <p style=\"text-align: center;\"> Your output should look something like this (above)</p> \n",
    " </figcaption>\n",
    "</figure>\n",
    " <p></p> \n"
   ]
  },
  {
   "cell_type": "code",
   "execution_count": 12,
   "metadata": {
    "collapsed": true,
    "deletable": true,
    "editable": true
   },
   "outputs": [],
   "source": [
    "### Visualize your network's feature maps here.\n",
    "### Feel free to use as many code cells as needed.\n",
    "\n",
    "# image_input: the test image being fed into the network to produce the feature maps\n",
    "# tf_activation: should be a tf variable name used during your training procedure that represents the calculated state of a specific weight layer\n",
    "# activation_min/max: can be used to view the activation contrast in more detail, by default matplot sets min and max to the actual min and max values of the output\n",
    "# plt_num: used to plot out multiple different weight feature map sets on the same block, just extend the plt number for each new feature map entry\n",
    "\n",
    "def outputFeatureMap(image_input, tf_activation, activation_min=-1, activation_max=-1 ,plt_num=1):\n",
    "    # Here make sure to preprocess your image_input in a way your network expects\n",
    "    # with size, normalization, ect if needed\n",
    "    # image_input =\n",
    "    # Note: x should be the same name as your network's tensorflow data placeholder variable\n",
    "    # If you get an error tf_activation is not defined it maybe having trouble accessing the variable from inside a function\n",
    "    activation = tf_activation.eval(session=sess,feed_dict={x : image_input})\n",
    "    featuremaps = activation.shape[3]\n",
    "    plt.figure(plt_num, figsize=(15,15))\n",
    "    for featuremap in range(featuremaps):\n",
    "        plt.subplot(6,8, featuremap+1) # sets the number of feature maps to show on each row and column\n",
    "        plt.title('FeatureMap ' + str(featuremap)) # displays the feature map number\n",
    "        if activation_min != -1 & activation_max != -1:\n",
    "            plt.imshow(activation[0,:,:, featuremap], interpolation=\"nearest\", vmin =activation_min, vmax=activation_max, cmap=\"gray\")\n",
    "        elif activation_max != -1:\n",
    "            plt.imshow(activation[0,:,:, featuremap], interpolation=\"nearest\", vmax=activation_max, cmap=\"gray\")\n",
    "        elif activation_min !=-1:\n",
    "            plt.imshow(activation[0,:,:, featuremap], interpolation=\"nearest\", vmin=activation_min, cmap=\"gray\")\n",
    "        else:\n",
    "            plt.imshow(activation[0,:,:, featuremap], interpolation=\"nearest\", cmap=\"gray\")"
   ]
  },
  {
   "cell_type": "markdown",
   "metadata": {
    "deletable": true,
    "editable": true
   },
   "source": [
    "### Question 9\n",
    "\n",
    "Discuss how you used the visual output of your trained network's feature maps to show that it had learned to look for interesting characteristics in traffic sign images\n"
   ]
  },
  {
   "cell_type": "markdown",
   "metadata": {
    "deletable": true,
    "editable": true
   },
   "source": [
    "**Answer:**"
   ]
  },
  {
   "cell_type": "markdown",
   "metadata": {
    "deletable": true,
    "editable": true
   },
   "source": [
    "> **Note**: Once you have completed all of the code implementations and successfully answered each question above, you may finalize your work by exporting the iPython Notebook as an HTML document. You can do this by using the menu above and navigating to  \\n\",\n",
    "    \"**File -> Download as -> HTML (.html)**. Include the finished document along with this notebook as your submission."
   ]
  },
  {
   "cell_type": "markdown",
   "metadata": {
    "deletable": true,
    "editable": true
   },
   "source": [
    "### Project Writeup\n",
    "\n",
    "Once you have completed the code implementation, document your results in a project writeup using this [template](https://github.com/udacity/CarND-Traffic-Sign-Classifier-Project/blob/master/writeup_template.md) as a guide. The writeup can be in a markdown or pdf file. "
   ]
  }
 ],
 "metadata": {
  "anaconda-cloud": {},
  "kernelspec": {
   "display_name": "Python 3",
   "language": "python",
   "name": "python3"
  },
  "language_info": {
   "codemirror_mode": {
    "name": "ipython",
    "version": 3
   },
   "file_extension": ".py",
   "mimetype": "text/x-python",
   "name": "python",
   "nbconvert_exporter": "python",
   "pygments_lexer": "ipython3",
   "version": "3.5.1"
  }
 },
 "nbformat": 4,
 "nbformat_minor": 1
}
